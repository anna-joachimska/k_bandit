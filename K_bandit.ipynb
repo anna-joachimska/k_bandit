{
  "cells": [
    {
      "cell_type": "markdown",
      "metadata": {
        "id": "lR_TZEu5bC9K"
      },
      "source": [
        "# K-armed bandit\n",
        "This notebook implements k-armed bandit and four agents:\n",
        "- Random agent\n",
        "- $\\epsilon$-greedy agent\n",
        "- Optimistic agent\n",
        "- Upper confidence bound agent\n",
        "\n",
        "The purpose of the notebook is to get you a good understanding of:\n",
        "- K-armed bandit problems\n",
        "- Exploration vs exploitation tradeoff\n",
        "- $\\epsilon$-greedy action selection method\n",
        "- Optimistic action selection method\n",
        "- Upper confidence bound action selection method\n",
        "\n",
        "## This is a graded assignment\n",
        "To pass the assinment, you are expected to:\n",
        "- perform all the code tasks, namely implement optimistic and ucb agents\n",
        "- understand the topics behind this code, that were covered in a lecture\n",
        "- present your code to the teacher and answer the questions\n",
        "\n",
        "### Related reading from the Reinforcement Learning book\n",
        "- Chapter 2-2.7 (Pages 25-36)\n"
      ]
    },
    {
      "cell_type": "markdown",
      "metadata": {
        "id": "CIBikB4CbC9O"
      },
      "source": [
        "<a target=\"_blank\" href=\"https://colab.research.google.com/github/PrzemekSekula/ReinfocementLearningClasses/blob/master/kArmedBandit/K_bandit-empty.ipynb\">\n",
        "    <img src=\"https://www.tensorflow.org/images/colab_logo_32px.png\" />\n",
        "    Run in Google Colab</a>"
      ]
    },
    {
      "cell_type": "code",
      "execution_count": 1,
      "metadata": {
        "id": "QiJkD5w7bC9P"
      },
      "outputs": [],
      "source": [
        "import numpy as np\n",
        "import pandas as pd\n",
        "from tqdm import tqdm\n",
        "\n",
        "import matplotlib.pyplot as plt\n",
        "%matplotlib inline"
      ]
    },
    {
      "cell_type": "markdown",
      "metadata": {
        "id": "AzvDhS19bC9Q"
      },
      "source": [
        "### Bandit class\n",
        "This class implements a k-armed bandit"
      ]
    },
    {
      "cell_type": "code",
      "execution_count": 2,
      "metadata": {
        "id": "EYtzQ8QcbC9Q"
      },
      "outputs": [],
      "source": [
        "class Bandit:\n",
        "    def __init__(self, q_star, stddev=2):\n",
        "      self.q_star = q_star\n",
        "      self.stddev = stddev\n",
        "    \n",
        "    def execute(self, arm):\n",
        "      return self.q_star[arm] + np.random.normal(scale=self.stddev)\n",
        "    "
      ]
    },
    {
      "cell_type": "markdown",
      "metadata": {
        "id": "PciUjxWlbC9R"
      },
      "source": [
        "Create a bandit object"
      ]
    },
    {
      "cell_type": "code",
      "execution_count": 3,
      "metadata": {
        "id": "pn0I2lM_bC9R",
        "outputId": "1656cf26-1baa-4496-f293-0ecc148f3272",
        "colab": {
          "base_uri": "https://localhost:8080/"
        }
      },
      "outputs": [
        {
          "output_type": "execute_result",
          "data": {
            "text/plain": [
              "6.968053041787328"
            ]
          },
          "metadata": {},
          "execution_count": 3
        }
      ],
      "source": [
        "bandit = Bandit([4, 5, 3, 3, 1, 2, 0, 1, 5, 1])\n",
        "bandit.execute(3)"
      ]
    },
    {
      "cell_type": "markdown",
      "metadata": {
        "id": "X8vBwIN-bC9S"
      },
      "source": [
        "### Random agent\n",
        "Agent that acts randomly\n",
        "\n",
        "Parameters:\n",
        "- `q_est` - estimated $q_{\\star}$ values for each arm\n",
        "- `n` - how many times each arm was selected\n",
        "\n",
        "Methods:\n",
        "- `act(self, bandit)` - performs an action (selects an arm randomly) and updates coresponding $Q$ and $n$ values. $Q$ is updated according to the formula:\n",
        "\n",
        "$Q_{n+1} = Q{n} + \\frac{1}{n}(R_n-Q_n)$\n",
        "\n",
        "where:\n",
        "- $Q_{n}$ - current estimated $q_{\\star}$ value\n",
        "- $Q_{n+1}$ - new estimated $q_{\\star}$ value\n",
        "- $R_n$ - reward obtained for an action $n$\n",
        "- $n$ - number of actions (computed separately for each action type)"
      ]
    },
    {
      "cell_type": "code",
      "execution_count": 4,
      "metadata": {
        "id": "q0zF3012bC9T"
      },
      "outputs": [],
      "source": [
        "class RandomAgent:\n",
        "    def __init__(self, bandit):\n",
        "      self.q_est = [0]*len(bandit.q_star)\n",
        "      self.n = [0]*len(bandit.q_star)\n",
        "    \n",
        "    def act(self, bandit):\n",
        "      arm = np.random.randint(len(self.q_est))\n",
        "      reward = bandit.execute(arm)\n",
        "      self.n[arm] += 1\n",
        "      self.q_est[arm] += (reward - self.q_est[arm])/self.n[arm]\n",
        "      return reward\n"
      ]
    },
    {
      "cell_type": "markdown",
      "metadata": {
        "id": "23_bzuEIbC9U"
      },
      "source": [
        "Let's run the agent and see how it works"
      ]
    },
    {
      "cell_type": "code",
      "execution_count": 5,
      "metadata": {
        "id": "1o3nX6b-bC9U"
      },
      "outputs": [],
      "source": [
        "\n",
        "agent = RandomAgent(bandit)\n",
        "rewards = []\n",
        "for step in range(1000):\n",
        "  reward = agent.act(bandit)\n",
        "  rewards.append(reward)"
      ]
    },
    {
      "cell_type": "code",
      "execution_count": 6,
      "metadata": {
        "id": "irZpQnOhbC9V",
        "outputId": "96ea0518-0fed-4444-8395-19a5c229a554",
        "colab": {
          "base_uri": "https://localhost:8080/",
          "height": 279
        }
      },
      "outputs": [
        {
          "output_type": "display_data",
          "data": {
            "text/plain": [
              "<Figure size 432x288 with 1 Axes>"
            ],
            "image/png": "[encoded data removed]"
          },
          "metadata": {
            "needs_background": "light"
          }
        }
      ],
      "source": [
        "def plot_rewards (rewards):\n",
        "    \"\"\"\n",
        "    Plots the rewards\n",
        "    \"\"\"\n",
        "    f = plt.figure()\n",
        "    plt.plot(rewards)\n",
        "    plt.xlabel('steps')\n",
        "    plt.ylabel('reward')\n",
        "    plt.show()\n",
        "    \n",
        "plot_rewards(rewards)"
      ]
    },
    {
      "cell_type": "code",
      "execution_count": 7,
      "metadata": {
        "id": "EcyhTVIBbC9V",
        "outputId": "844371a4-99cb-40d3-b2c8-08cd44bfcf45",
        "colab": {
          "base_uri": "https://localhost:8080/",
          "height": 363
        }
      },
      "outputs": [
        {
          "output_type": "execute_result",
          "data": {
            "text/plain": [
              "   q_star     q_est    n\n",
              "0       4  3.973602  111\n",
              "1       5  5.267921   91\n",
              "2       3  3.106563  113\n",
              "3       3  2.969554  100\n",
              "4       1  0.961122   81\n",
              "5       2  1.896822   94\n",
              "6       0  0.142937  111\n",
              "7       1  0.824986   98\n",
              "8       5  5.034130   92\n",
              "9       1  0.832450  109"
            ],
            "text/html": [
              "\n",
              "  <div id=\"df-a2e802bd-ca04-4a29-9c1c-28a9e9743da5\">\n",
              "    <div class=\"colab-df-container\">\n",
              "      <div>\n",
              "<style scoped>\n",
              "    .dataframe tbody tr th:only-of-type {\n",
              "        vertical-align: middle;\n",
              "    }\n",
              "\n",
              "    .dataframe tbody tr th {\n",
              "        vertical-align: top;\n",
              "    }\n",
              "\n",
              "    .dataframe thead th {\n",
              "        text-align: right;\n",
              "    }\n",
              "</style>\n",
              "<table border=\"1\" class=\"dataframe\">\n",
              "  <thead>\n",
              "    <tr style=\"text-align: right;\">\n",
              "      <th></th>\n",
              "      <th>q_star</th>\n",
              "      <th>q_est</th>\n",
              "      <th>n</th>\n",
              "    </tr>\n",
              "  </thead>\n",
              "  <tbody>\n",
              "    <tr>\n",
              "      <th>0</th>\n",
              "      <td>4</td>\n",
              "      <td>3.973602</td>\n",
              "      <td>111</td>\n",
              "    </tr>\n",
              "    <tr>\n",
              "      <th>1</th>\n",
              "      <td>5</td>\n",
              "      <td>5.267921</td>\n",
              "      <td>91</td>\n",
              "    </tr>\n",
              "    <tr>\n",
              "      <th>2</th>\n",
              "      <td>3</td>\n",
              "      <td>3.106563</td>\n",
              "      <td>113</td>\n",
              "    </tr>\n",
              "    <tr>\n",
              "      <th>3</th>\n",
              "      <td>3</td>\n",
              "      <td>2.969554</td>\n",
              "      <td>100</td>\n",
              "    </tr>\n",
              "    <tr>\n",
              "      <th>4</th>\n",
              "      <td>1</td>\n",
              "      <td>0.961122</td>\n",
              "      <td>81</td>\n",
              "    </tr>\n",
              "    <tr>\n",
              "      <th>5</th>\n",
              "      <td>2</td>\n",
              "      <td>1.896822</td>\n",
              "      <td>94</td>\n",
              "    </tr>\n",
              "    <tr>\n",
              "      <th>6</th>\n",
              "      <td>0</td>\n",
              "      <td>0.142937</td>\n",
              "      <td>111</td>\n",
              "    </tr>\n",
              "    <tr>\n",
              "      <th>7</th>\n",
              "      <td>1</td>\n",
              "      <td>0.824986</td>\n",
              "      <td>98</td>\n",
              "    </tr>\n",
              "    <tr>\n",
              "      <th>8</th>\n",
              "      <td>5</td>\n",
              "      <td>5.034130</td>\n",
              "      <td>92</td>\n",
              "    </tr>\n",
              "    <tr>\n",
              "      <th>9</th>\n",
              "      <td>1</td>\n",
              "      <td>0.832450</td>\n",
              "      <td>109</td>\n",
              "    </tr>\n",
              "  </tbody>\n",
              "</table>\n",
              "</div>\n",
              "      <button class=\"colab-df-convert\" onclick=\"convertToInteractive('df-a2e802bd-ca04-4a29-9c1c-28a9e9743da5')\"\n",
              "              title=\"Convert this dataframe to an interactive table.\"\n",
              "              style=\"display:none;\">\n",
              "        \n",
              "  <svg xmlns=\"http://www.w3.org/2000/svg\" height=\"24px\"viewBox=\"0 0 24 24\"\n",
              "       width=\"24px\">\n",
              "    <path d=\"M0 0h24v24H0V0z\" fill=\"none\"/>\n",
              "    <path d=\"M18.56 5.44l.94 2.06.94-2.06 2.06-.94-2.06-.94-.94-2.06-.94 2.06-2.06.94zm-11 1L8.5 8.5l.94-2.06 2.06-.94-2.06-.94L8.5 2.5l-.94 2.06-2.06.94zm10 10l.94 2.06.94-2.06 2.06-.94-2.06-.94-.94-2.06-.94 2.06-2.06.94z\"/><path d=\"M17.41 7.96l-1.37-1.37c-.4-.4-.92-.59-1.43-.59-.52 0-1.04.2-1.43.59L10.3 9.45l-7.72 7.72c-.78.78-.78 2.05 0 2.83L4 21.41c.39.39.9.59 1.41.59.51 0 1.02-.2 1.41-.59l7.78-7.78 2.81-2.81c.8-.78.8-2.07 0-2.86zM5.41 20L4 18.59l7.72-7.72 1.47 1.35L5.41 20z\"/>\n",
              "  </svg>\n",
              "      </button>\n",
              "      \n",
              "  <style>\n",
              "    .colab-df-container {\n",
              "      display:flex;\n",
              "      flex-wrap:wrap;\n",
              "      gap: 12px;\n",
              "    }\n",
              "\n",
              "    .colab-df-convert {\n",
              "      background-color: #E8F0FE;\n",
              "      border: none;\n",
              "      border-radius: 50%;\n",
              "      cursor: pointer;\n",
              "      display: none;\n",
              "      fill: #1967D2;\n",
              "      height: 32px;\n",
              "      padding: 0 0 0 0;\n",
              "      width: 32px;\n",
              "    }\n",
              "\n",
              "    .colab-df-convert:hover {\n",
              "      background-color: #E2EBFA;\n",
              "      box-shadow: 0px 1px 2px rgba(60, 64, 67, 0.3), 0px 1px 3px 1px rgba(60, 64, 67, 0.15);\n",
              "      fill: #174EA6;\n",
              "    }\n",
              "\n",
              "    [theme=dark] .colab-df-convert {\n",
              "      background-color: #3B4455;\n",
              "      fill: #D2E3FC;\n",
              "    }\n",
              "\n",
              "    [theme=dark] .colab-df-convert:hover {\n",
              "      background-color: #434B5C;\n",
              "      box-shadow: 0px 1px 3px 1px rgba(0, 0, 0, 0.15);\n",
              "      filter: drop-shadow(0px 1px 2px rgba(0, 0, 0, 0.3));\n",
              "      fill: #FFFFFF;\n",
              "    }\n",
              "  </style>\n",
              "\n",
              "      <script>\n",
              "        const buttonEl =\n",
              "          document.querySelector('#df-a2e802bd-ca04-4a29-9c1c-28a9e9743da5 button.colab-df-convert');\n",
              "        buttonEl.style.display =\n",
              "          google.colab.kernel.accessAllowed ? 'block' : 'none';\n",
              "\n",
              "        async function convertToInteractive(key) {\n",
              "          const element = document.querySelector('#df-a2e802bd-ca04-4a29-9c1c-28a9e9743da5');\n",
              "          const dataTable =\n",
              "            await google.colab.kernel.invokeFunction('convertToInteractive',\n",
              "                                                     [key], {});\n",
              "          if (!dataTable) return;\n",
              "\n",
              "          const docLinkHtml = 'Like what you see? Visit the ' +\n",
              "            '<a target=\"_blank\" href=https://colab.research.google.com/notebooks/data_table.ipynb>data table notebook</a>'\n",
              "            + ' to learn more about interactive tables.';\n",
              "          element.innerHTML = '';\n",
              "          dataTable['output_type'] = 'display_data';\n",
              "          await google.colab.output.renderOutput(dataTable, element);\n",
              "          const docLink = document.createElement('div');\n",
              "          docLink.innerHTML = docLinkHtml;\n",
              "          element.appendChild(docLink);\n",
              "        }\n",
              "      </script>\n",
              "    </div>\n",
              "  </div>\n",
              "  "
            ]
          },
          "metadata": {},
          "execution_count": 7
        }
      ],
      "source": [
        "\n",
        "def display_agent(agent, bandit):\n",
        "    \"\"\"\n",
        "    Displays the agent data, namely:\n",
        "    q_star - real expected rewards from the bandit\n",
        "    q_est  - expected rewards extimated by the agent\n",
        "    n      - how many times the agent selected this particular arm\n",
        "    \"\"\"\n",
        "    df = pd.DataFrame()\n",
        "    df['q_star'] = bandit.q_star\n",
        "    df['q_est'] = agent.q_est\n",
        "    df['n'] = agent.n\n",
        "    return df\n",
        "\n",
        "display_agent(agent, bandit)"
      ]
    },
    {
      "cell_type": "markdown",
      "metadata": {
        "id": "ivgbXnW-bC9W"
      },
      "source": [
        "## $\\epsilon$-greedy Agent"
      ]
    },
    {
      "cell_type": "code",
      "execution_count": 8,
      "metadata": {
        "id": "k_JObERebC9W"
      },
      "outputs": [],
      "source": [
        "class EpsilonGreedyAgent:\n",
        "    def __init__(self, bandit, epsilon = 0.1):\n",
        "      self.q_est = [0]*len(bandit.q_star)\n",
        "      self.n = [0]*len(bandit.q_star)\n",
        "      self.epsilon = epsilon\n",
        "    \n",
        "    def act(self, bandit):\n",
        "      if np.random.random() > self.epsilon:\n",
        "        arm = np.argmax(self.q_est) #wybierz to ramie ktore uwazasz za najwieksze\n",
        "      else: \n",
        "        arm = np.random.randint(len(self.q_est))\n",
        "      \n",
        "      reward = bandit.execute(arm)\n",
        "      self.n[arm] +=1\n",
        "      self.q_est[arm] += (reward - self.q_est[arm])/self.n[arm]\n",
        "\n",
        "      return reward\n"
      ]
    },
    {
      "cell_type": "markdown",
      "metadata": {
        "id": "A6LemkcqbC9W"
      },
      "source": [
        "Let's train the agent n times (1000 steps each time) to see how it works"
      ]
    },
    {
      "cell_type": "code",
      "execution_count": 9,
      "metadata": {
        "id": "g1EjfPc5bC9W",
        "outputId": "6b38be36-f3d8-45e4-cf09-590fa53d6538",
        "colab": {
          "base_uri": "https://localhost:8080/"
        }
      },
      "outputs": [
        {
          "output_type": "stream",
          "name": "stderr",
          "text": [
            "100%|██████████| 2000/2000 [00:32<00:00, 60.80it/s]\n"
          ]
        },
        {
          "output_type": "stream",
          "name": "stdout",
          "text": [
            "(1000,)\n"
          ]
        }
      ],
      "source": [
        "total_rewards = []\n",
        "for loop in tqdm(range(2000)):\n",
        "  agent = EpsilonGreedyAgent(bandit) \n",
        "  rewards = []\n",
        "  for step in range(1000):\n",
        "    reward = agent.act(bandit)\n",
        "    rewards.append(reward)\n",
        "  total_rewards.append(rewards)\n",
        "total_rewards = np.asarray(total_rewards)\n",
        "rewards = total_rewards.mean(axis=0)\n",
        "print(rewards.shape)"
      ]
    },
    {
      "cell_type": "markdown",
      "metadata": {
        "id": "u9FtOMmKbC9X"
      },
      "source": [
        "Let's display how the $\\epsilon$-greedy agent works.\n",
        "\n",
        "*Note: We trained many agents, and the displayed reward is the average of the rewards obrained by all the agents. However, the dataframe contains only the data for the latest agent*"
      ]
    },
    {
      "cell_type": "code",
      "execution_count": 10,
      "metadata": {
        "id": "L0O18jurbC9X",
        "outputId": "5a4399bf-8a01-48be-9846-31192301db30",
        "colab": {
          "base_uri": "https://localhost:8080/",
          "height": 625
        }
      },
      "outputs": [
        {
          "output_type": "display_data",
          "data": {
            "text/plain": [
              "<Figure size 432x288 with 1 Axes>"
            ],
            "image/png": "[encoded data removed]"
          },
          "metadata": {
            "needs_background": "light"
          }
        },
        {
          "output_type": "execute_result",
          "data": {
            "text/plain": [
              "   q_star     q_est    n\n",
              "0       4  4.178882  440\n",
              "1       5  5.208765  480\n",
              "2       3  2.549941    8\n",
              "3       3  3.231540    9\n",
              "4       1  0.529099   10\n",
              "5       2  1.212091   13\n",
              "6       0 -0.158259    9\n",
              "7       1  1.938307    8\n",
              "8       5  4.230715   11\n",
              "9       1 -0.103420   12"
            ],
            "text/html": [
              "\n",
              "  <div id=\"df-bb17f846-f3e5-452c-901c-c35d562742a4\">\n",
              "    <div class=\"colab-df-container\">\n",
              "      <div>\n",
              "<style scoped>\n",
              "    .dataframe tbody tr th:only-of-type {\n",
              "        vertical-align: middle;\n",
              "    }\n",
              "\n",
              "    .dataframe tbody tr th {\n",
              "        vertical-align: top;\n",
              "    }\n",
              "\n",
              "    .dataframe thead th {\n",
              "        text-align: right;\n",
              "    }\n",
              "</style>\n",
              "<table border=\"1\" class=\"dataframe\">\n",
              "  <thead>\n",
              "    <tr style=\"text-align: right;\">\n",
              "      <th></th>\n",
              "      <th>q_star</th>\n",
              "      <th>q_est</th>\n",
              "      <th>n</th>\n",
              "    </tr>\n",
              "  </thead>\n",
              "  <tbody>\n",
              "    <tr>\n",
              "      <th>0</th>\n",
              "      <td>4</td>\n",
              "      <td>4.178882</td>\n",
              "      <td>440</td>\n",
              "    </tr>\n",
              "    <tr>\n",
              "      <th>1</th>\n",
              "      <td>5</td>\n",
              "      <td>5.208765</td>\n",
              "      <td>480</td>\n",
              "    </tr>\n",
              "    <tr>\n",
              "      <th>2</th>\n",
              "      <td>3</td>\n",
              "      <td>2.549941</td>\n",
              "      <td>8</td>\n",
              "    </tr>\n",
              "    <tr>\n",
              "      <th>3</th>\n",
              "      <td>3</td>\n",
              "      <td>3.231540</td>\n",
              "      <td>9</td>\n",
              "    </tr>\n",
              "    <tr>\n",
              "      <th>4</th>\n",
              "      <td>1</td>\n",
              "      <td>0.529099</td>\n",
              "      <td>10</td>\n",
              "    </tr>\n",
              "    <tr>\n",
              "      <th>5</th>\n",
              "      <td>2</td>\n",
              "      <td>1.212091</td>\n",
              "      <td>13</td>\n",
              "    </tr>\n",
              "    <tr>\n",
              "      <th>6</th>\n",
              "      <td>0</td>\n",
              "      <td>-0.158259</td>\n",
              "      <td>9</td>\n",
              "    </tr>\n",
              "    <tr>\n",
              "      <th>7</th>\n",
              "      <td>1</td>\n",
              "      <td>1.938307</td>\n",
              "      <td>8</td>\n",
              "    </tr>\n",
              "    <tr>\n",
              "      <th>8</th>\n",
              "      <td>5</td>\n",
              "      <td>4.230715</td>\n",
              "      <td>11</td>\n",
              "    </tr>\n",
              "    <tr>\n",
              "      <th>9</th>\n",
              "      <td>1</td>\n",
              "      <td>-0.103420</td>\n",
              "      <td>12</td>\n",
              "    </tr>\n",
              "  </tbody>\n",
              "</table>\n",
              "</div>\n",
              "      <button class=\"colab-df-convert\" onclick=\"convertToInteractive('df-bb17f846-f3e5-452c-901c-c35d562742a4')\"\n",
              "              title=\"Convert this dataframe to an interactive table.\"\n",
              "              style=\"display:none;\">\n",
              "        \n",
              "  <svg xmlns=\"http://www.w3.org/2000/svg\" height=\"24px\"viewBox=\"0 0 24 24\"\n",
              "       width=\"24px\">\n",
              "    <path d=\"M0 0h24v24H0V0z\" fill=\"none\"/>\n",
              "    <path d=\"M18.56 5.44l.94 2.06.94-2.06 2.06-.94-2.06-.94-.94-2.06-.94 2.06-2.06.94zm-11 1L8.5 8.5l.94-2.06 2.06-.94-2.06-.94L8.5 2.5l-.94 2.06-2.06.94zm10 10l.94 2.06.94-2.06 2.06-.94-2.06-.94-.94-2.06-.94 2.06-2.06.94z\"/><path d=\"M17.41 7.96l-1.37-1.37c-.4-.4-.92-.59-1.43-.59-.52 0-1.04.2-1.43.59L10.3 9.45l-7.72 7.72c-.78.78-.78 2.05 0 2.83L4 21.41c.39.39.9.59 1.41.59.51 0 1.02-.2 1.41-.59l7.78-7.78 2.81-2.81c.8-.78.8-2.07 0-2.86zM5.41 20L4 18.59l7.72-7.72 1.47 1.35L5.41 20z\"/>\n",
              "  </svg>\n",
              "      </button>\n",
              "      \n",
              "  <style>\n",
              "    .colab-df-container {\n",
              "      display:flex;\n",
              "      flex-wrap:wrap;\n",
              "      gap: 12px;\n",
              "    }\n",
              "\n",
              "    .colab-df-convert {\n",
              "      background-color: #E8F0FE;\n",
              "      border: none;\n",
              "      border-radius: 50%;\n",
              "      cursor: pointer;\n",
              "      display: none;\n",
              "      fill: #1967D2;\n",
              "      height: 32px;\n",
              "      padding: 0 0 0 0;\n",
              "      width: 32px;\n",
              "    }\n",
              "\n",
              "    .colab-df-convert:hover {\n",
              "      background-color: #E2EBFA;\n",
              "      box-shadow: 0px 1px 2px rgba(60, 64, 67, 0.3), 0px 1px 3px 1px rgba(60, 64, 67, 0.15);\n",
              "      fill: #174EA6;\n",
              "    }\n",
              "\n",
              "    [theme=dark] .colab-df-convert {\n",
              "      background-color: #3B4455;\n",
              "      fill: #D2E3FC;\n",
              "    }\n",
              "\n",
              "    [theme=dark] .colab-df-convert:hover {\n",
              "      background-color: #434B5C;\n",
              "      box-shadow: 0px 1px 3px 1px rgba(0, 0, 0, 0.15);\n",
              "      filter: drop-shadow(0px 1px 2px rgba(0, 0, 0, 0.3));\n",
              "      fill: #FFFFFF;\n",
              "    }\n",
              "  </style>\n",
              "\n",
              "      <script>\n",
              "        const buttonEl =\n",
              "          document.querySelector('#df-bb17f846-f3e5-452c-901c-c35d562742a4 button.colab-df-convert');\n",
              "        buttonEl.style.display =\n",
              "          google.colab.kernel.accessAllowed ? 'block' : 'none';\n",
              "\n",
              "        async function convertToInteractive(key) {\n",
              "          const element = document.querySelector('#df-bb17f846-f3e5-452c-901c-c35d562742a4');\n",
              "          const dataTable =\n",
              "            await google.colab.kernel.invokeFunction('convertToInteractive',\n",
              "                                                     [key], {});\n",
              "          if (!dataTable) return;\n",
              "\n",
              "          const docLinkHtml = 'Like what you see? Visit the ' +\n",
              "            '<a target=\"_blank\" href=https://colab.research.google.com/notebooks/data_table.ipynb>data table notebook</a>'\n",
              "            + ' to learn more about interactive tables.';\n",
              "          element.innerHTML = '';\n",
              "          dataTable['output_type'] = 'display_data';\n",
              "          await google.colab.output.renderOutput(dataTable, element);\n",
              "          const docLink = document.createElement('div');\n",
              "          docLink.innerHTML = docLinkHtml;\n",
              "          element.appendChild(docLink);\n",
              "        }\n",
              "      </script>\n",
              "    </div>\n",
              "  </div>\n",
              "  "
            ]
          },
          "metadata": {},
          "execution_count": 10
        }
      ],
      "source": [
        "plot_rewards(rewards)\n",
        "display_agent(agent, bandit)"
      ]
    },
    {
      "cell_type": "markdown",
      "metadata": {
        "id": "1jAOuJZwbC9X"
      },
      "source": [
        "We may save the rewards for future comparisons"
      ]
    },
    {
      "cell_type": "code",
      "execution_count": 11,
      "metadata": {
        "id": "CeuBeQmpbC9X"
      },
      "outputs": [],
      "source": [
        "df_rewards = pd.DataFrame()\n",
        "df_rewards['eGreedy'] = rewards"
      ]
    },
    {
      "cell_type": "markdown",
      "metadata": {
        "id": "SaJVYGu5bC9Y"
      },
      "source": [
        "## Task 1  - Optimistic agent\n",
        "Please fill in the placeholders to implement the optimistic agent.\n",
        "Generally, you are suppose to prepate the `__init__` and `act` methods.\n",
        "- In the `__init__` method you should set the initial values optimistically.\n",
        "- In the `act` method you should:\n",
        "    - Perform an action (select the arm greedily based on the estimated $q_{\\star}$ values) \n",
        "    - Update the corresponding estimated $q_{\\star}$ value"
      ]
    },
    {
      "cell_type": "code",
      "execution_count": 12,
      "metadata": {
        "id": "tcP5s6QzbC9Y"
      },
      "outputs": [],
      "source": [
        "class OptimisticAgent:\n",
        "    def __init__(self, bandit, initial_value=10):\n",
        "      self.q_est = [initial_value]*len(bandit.q_star)\n",
        "      self.n = [0]*len(bandit.q_star)\n",
        "    \n",
        "    def act(self, bandit):\n",
        "      arm = np.argmax(self.q_est) \n",
        "      reward = bandit.execute(arm)\n",
        "      self.n[arm] +=1\n",
        "      self.q_est[arm] += (reward - self.q_est[arm])/self.n[arm]\n",
        "\n",
        "      return reward"
      ]
    },
    {
      "cell_type": "markdown",
      "metadata": {
        "id": "YcV94K-VbC9Y"
      },
      "source": [
        "Agent traning"
      ]
    },
    {
      "cell_type": "code",
      "execution_count": 13,
      "metadata": {
        "id": "Bv7m9bI-bC9Y",
        "outputId": "d94d8333-74d7-4d06-ead0-93e517f1818f",
        "colab": {
          "base_uri": "https://localhost:8080/"
        }
      },
      "outputs": [
        {
          "output_type": "stream",
          "name": "stderr",
          "text": [
            "100%|██████████| 2000/2000 [00:29<00:00, 67.20it/s]\n"
          ]
        },
        {
          "output_type": "stream",
          "name": "stdout",
          "text": [
            "(1000,)\n"
          ]
        }
      ],
      "source": [
        "total_rewards = []\n",
        "for loop in tqdm(range(2000)):\n",
        "  agent = OptimisticAgent(bandit) \n",
        "  rewards = []\n",
        "  for step in range(1000):\n",
        "    reward = agent.act(bandit)\n",
        "    rewards.append(reward)\n",
        "  total_rewards.append(rewards)\n",
        "total_rewards = np.asarray(total_rewards)\n",
        "rewards = total_rewards.mean(axis=0)\n",
        "print(rewards.shape)"
      ]
    },
    {
      "cell_type": "markdown",
      "metadata": {
        "id": "Gfa-pinibC9Y"
      },
      "source": [
        "Optimistic agent results visualization"
      ]
    },
    {
      "cell_type": "code",
      "execution_count": 14,
      "metadata": {
        "id": "llUEP8EIbC9Y",
        "outputId": "5002d8ef-3a66-48d8-ce92-84d1681e5496",
        "colab": {
          "base_uri": "https://localhost:8080/",
          "height": 625
        }
      },
      "outputs": [
        {
          "output_type": "display_data",
          "data": {
            "text/plain": [
              "<Figure size 432x288 with 1 Axes>"
            ],
            "image/png": "[encoded data removed]"
          },
          "metadata": {
            "needs_background": "light"
          }
        },
        {
          "output_type": "execute_result",
          "data": {
            "text/plain": [
              "   q_star     q_est    n\n",
              "0       4  2.539869    1\n",
              "1       5  5.069411  989\n",
              "2       3  4.681787    2\n",
              "3       3  0.429570    1\n",
              "4       1 -1.525458    1\n",
              "5       2  1.877823    1\n",
              "6       0  2.311638    1\n",
              "7       1 -1.673559    1\n",
              "8       5  4.585047    1\n",
              "9       1  3.663578    2"
            ],
            "text/html": [
              "\n",
              "  <div id=\"df-b57d7d69-6dd3-44c8-96e7-277c405042a0\">\n",
              "    <div class=\"colab-df-container\">\n",
              "      <div>\n",
              "<style scoped>\n",
              "    .dataframe tbody tr th:only-of-type {\n",
              "        vertical-align: middle;\n",
              "    }\n",
              "\n",
              "    .dataframe tbody tr th {\n",
              "        vertical-align: top;\n",
              "    }\n",
              "\n",
              "    .dataframe thead th {\n",
              "        text-align: right;\n",
              "    }\n",
              "</style>\n",
              "<table border=\"1\" class=\"dataframe\">\n",
              "  <thead>\n",
              "    <tr style=\"text-align: right;\">\n",
              "      <th></th>\n",
              "      <th>q_star</th>\n",
              "      <th>q_est</th>\n",
              "      <th>n</th>\n",
              "    </tr>\n",
              "  </thead>\n",
              "  <tbody>\n",
              "    <tr>\n",
              "      <th>0</th>\n",
              "      <td>4</td>\n",
              "      <td>2.539869</td>\n",
              "      <td>1</td>\n",
              "    </tr>\n",
              "    <tr>\n",
              "      <th>1</th>\n",
              "      <td>5</td>\n",
              "      <td>5.069411</td>\n",
              "      <td>989</td>\n",
              "    </tr>\n",
              "    <tr>\n",
              "      <th>2</th>\n",
              "      <td>3</td>\n",
              "      <td>4.681787</td>\n",
              "      <td>2</td>\n",
              "    </tr>\n",
              "    <tr>\n",
              "      <th>3</th>\n",
              "      <td>3</td>\n",
              "      <td>0.429570</td>\n",
              "      <td>1</td>\n",
              "    </tr>\n",
              "    <tr>\n",
              "      <th>4</th>\n",
              "      <td>1</td>\n",
              "      <td>-1.525458</td>\n",
              "      <td>1</td>\n",
              "    </tr>\n",
              "    <tr>\n",
              "      <th>5</th>\n",
              "      <td>2</td>\n",
              "      <td>1.877823</td>\n",
              "      <td>1</td>\n",
              "    </tr>\n",
              "    <tr>\n",
              "      <th>6</th>\n",
              "      <td>0</td>\n",
              "      <td>2.311638</td>\n",
              "      <td>1</td>\n",
              "    </tr>\n",
              "    <tr>\n",
              "      <th>7</th>\n",
              "      <td>1</td>\n",
              "      <td>-1.673559</td>\n",
              "      <td>1</td>\n",
              "    </tr>\n",
              "    <tr>\n",
              "      <th>8</th>\n",
              "      <td>5</td>\n",
              "      <td>4.585047</td>\n",
              "      <td>1</td>\n",
              "    </tr>\n",
              "    <tr>\n",
              "      <th>9</th>\n",
              "      <td>1</td>\n",
              "      <td>3.663578</td>\n",
              "      <td>2</td>\n",
              "    </tr>\n",
              "  </tbody>\n",
              "</table>\n",
              "</div>\n",
              "      <button class=\"colab-df-convert\" onclick=\"convertToInteractive('df-b57d7d69-6dd3-44c8-96e7-277c405042a0')\"\n",
              "              title=\"Convert this dataframe to an interactive table.\"\n",
              "              style=\"display:none;\">\n",
              "        \n",
              "  <svg xmlns=\"http://www.w3.org/2000/svg\" height=\"24px\"viewBox=\"0 0 24 24\"\n",
              "       width=\"24px\">\n",
              "    <path d=\"M0 0h24v24H0V0z\" fill=\"none\"/>\n",
              "    <path d=\"M18.56 5.44l.94 2.06.94-2.06 2.06-.94-2.06-.94-.94-2.06-.94 2.06-2.06.94zm-11 1L8.5 8.5l.94-2.06 2.06-.94-2.06-.94L8.5 2.5l-.94 2.06-2.06.94zm10 10l.94 2.06.94-2.06 2.06-.94-2.06-.94-.94-2.06-.94 2.06-2.06.94z\"/><path d=\"M17.41 7.96l-1.37-1.37c-.4-.4-.92-.59-1.43-.59-.52 0-1.04.2-1.43.59L10.3 9.45l-7.72 7.72c-.78.78-.78 2.05 0 2.83L4 21.41c.39.39.9.59 1.41.59.51 0 1.02-.2 1.41-.59l7.78-7.78 2.81-2.81c.8-.78.8-2.07 0-2.86zM5.41 20L4 18.59l7.72-7.72 1.47 1.35L5.41 20z\"/>\n",
              "  </svg>\n",
              "      </button>\n",
              "      \n",
              "  <style>\n",
              "    .colab-df-container {\n",
              "      display:flex;\n",
              "      flex-wrap:wrap;\n",
              "      gap: 12px;\n",
              "    }\n",
              "\n",
              "    .colab-df-convert {\n",
              "      background-color: #E8F0FE;\n",
              "      border: none;\n",
              "      border-radius: 50%;\n",
              "      cursor: pointer;\n",
              "      display: none;\n",
              "      fill: #1967D2;\n",
              "      height: 32px;\n",
              "      padding: 0 0 0 0;\n",
              "      width: 32px;\n",
              "    }\n",
              "\n",
              "    .colab-df-convert:hover {\n",
              "      background-color: #E2EBFA;\n",
              "      box-shadow: 0px 1px 2px rgba(60, 64, 67, 0.3), 0px 1px 3px 1px rgba(60, 64, 67, 0.15);\n",
              "      fill: #174EA6;\n",
              "    }\n",
              "\n",
              "    [theme=dark] .colab-df-convert {\n",
              "      background-color: #3B4455;\n",
              "      fill: #D2E3FC;\n",
              "    }\n",
              "\n",
              "    [theme=dark] .colab-df-convert:hover {\n",
              "      background-color: #434B5C;\n",
              "      box-shadow: 0px 1px 3px 1px rgba(0, 0, 0, 0.15);\n",
              "      filter: drop-shadow(0px 1px 2px rgba(0, 0, 0, 0.3));\n",
              "      fill: #FFFFFF;\n",
              "    }\n",
              "  </style>\n",
              "\n",
              "      <script>\n",
              "        const buttonEl =\n",
              "          document.querySelector('#df-b57d7d69-6dd3-44c8-96e7-277c405042a0 button.colab-df-convert');\n",
              "        buttonEl.style.display =\n",
              "          google.colab.kernel.accessAllowed ? 'block' : 'none';\n",
              "\n",
              "        async function convertToInteractive(key) {\n",
              "          const element = document.querySelector('#df-b57d7d69-6dd3-44c8-96e7-277c405042a0');\n",
              "          const dataTable =\n",
              "            await google.colab.kernel.invokeFunction('convertToInteractive',\n",
              "                                                     [key], {});\n",
              "          if (!dataTable) return;\n",
              "\n",
              "          const docLinkHtml = 'Like what you see? Visit the ' +\n",
              "            '<a target=\"_blank\" href=https://colab.research.google.com/notebooks/data_table.ipynb>data table notebook</a>'\n",
              "            + ' to learn more about interactive tables.';\n",
              "          element.innerHTML = '';\n",
              "          dataTable['output_type'] = 'display_data';\n",
              "          await google.colab.output.renderOutput(dataTable, element);\n",
              "          const docLink = document.createElement('div');\n",
              "          docLink.innerHTML = docLinkHtml;\n",
              "          element.appendChild(docLink);\n",
              "        }\n",
              "      </script>\n",
              "    </div>\n",
              "  </div>\n",
              "  "
            ]
          },
          "metadata": {},
          "execution_count": 14
        }
      ],
      "source": [
        "df_rewards['optimistic'] = rewards # Let's store the results for comparison\n",
        "plot_rewards(rewards)\n",
        "display_agent(agent, bandit)"
      ]
    },
    {
      "cell_type": "markdown",
      "metadata": {
        "id": "ixwsKcadbC9Y"
      },
      "source": [
        "## Task 2  - Upper Confidence Bound agent\n",
        "\n",
        "Please fill in the placeholders to implement the UCB agent.\n",
        "Generally, you are suppose to prepate the `act` method. In this method you are supposed to:\n",
        "- Compute the optimistic estimated $q_{\\star}$ values for each action, according to the formula:\n",
        "$Q_{optimistic}(a) = Q_{estimated}(a) + c \\sqrt{\\frac{ln(t)}{N_t(a)}}$ where:\n",
        "    - $a$ - selected action\n",
        "    - $Q_{estimated}(a)$ - estimated $q_{\\star}$ value for action $a$\n",
        "    - $c$ - explorarion parameter\n",
        "    - $t$ - number of all steps taken so far\n",
        "    - $N_t(a)$ - number of times when action $a$ was selected\n",
        "- Perform an action (select the arm greedily based on the estimated $Q_{optimistic}$ values) \n",
        "- Update the corresponding estimated $q_{\\star}$ value"
      ]
    },
    {
      "cell_type": "code",
      "execution_count": 15,
      "metadata": {
        "id": "LKlwn-DhbC9Z"
      },
      "outputs": [],
      "source": [
        "class UCBAgent:\n",
        "    def __init__(self, bandit, c = 3):\n",
        "        self.q_est =  [0] * len(bandit.q_star)\n",
        "        self.n =  [0] * len(bandit.q_star)\n",
        "        self.c = c\n",
        "        self.t=0\n",
        "\n",
        "    def act(self, bandit): \n",
        "      self.t+=1 \n",
        "      arm = np.argmax(self.q_est + self.c * np.sqrt(np.log(self.t) / self.n + 1e-6))\n",
        "      reward = bandit.execute(arm)\n",
        "      self.n[arm] += 1\n",
        "\n",
        "      self.q_est[arm] += (reward - self.q_est[arm]) / (self.n[arm])\n",
        "\n",
        "      return reward"
      ]
    },
    {
      "cell_type": "markdown",
      "metadata": {
        "id": "4AxtiwgGbC9Z"
      },
      "source": [
        "Agent traning"
      ]
    },
    {
      "cell_type": "code",
      "execution_count": 16,
      "metadata": {
        "id": "d2mcowmVbC9Z",
        "outputId": "b28007b7-44f2-46ee-81e3-be084453200b",
        "colab": {
          "base_uri": "https://localhost:8080/"
        }
      },
      "outputs": [
        {
          "output_type": "stream",
          "name": "stderr",
          "text": [
            "  0%|          | 0/2000 [00:00<?, ?it/s]<ipython-input-15-840d0bebee6b>:10: RuntimeWarning: invalid value encountered in true_divide\n",
            "  arm = np.argmax(self.q_est + self.c * np.sqrt(np.log(self.t) / self.n + 1e-6))\n",
            "<ipython-input-15-840d0bebee6b>:10: RuntimeWarning: divide by zero encountered in true_divide\n",
            "  arm = np.argmax(self.q_est + self.c * np.sqrt(np.log(self.t) / self.n + 1e-6))\n",
            "100%|██████████| 2000/2000 [01:01<00:00, 32.79it/s]\n"
          ]
        },
        {
          "output_type": "stream",
          "name": "stdout",
          "text": [
            "(1000,)\n"
          ]
        }
      ],
      "source": [
        "total_rewards = []\n",
        "for loop in tqdm(range(2000)):\n",
        "  agent = UCBAgent(bandit) \n",
        "  rewards = []\n",
        "  for step in range(1000):\n",
        "    reward = agent.act(bandit)\n",
        "    rewards.append(reward)\n",
        "  total_rewards.append(rewards)\n",
        "total_rewards = np.asarray(total_rewards)\n",
        "rewards = total_rewards.mean(axis=0)\n",
        "print(rewards.shape)"
      ]
    },
    {
      "cell_type": "code",
      "execution_count": 17,
      "metadata": {
        "id": "DuK186N5bC9Z",
        "outputId": "e0d134cc-3c41-4bd7-8568-f32babf6a531",
        "colab": {
          "base_uri": "https://localhost:8080/",
          "height": 625
        }
      },
      "outputs": [
        {
          "output_type": "display_data",
          "data": {
            "text/plain": [
              "<Figure size 432x288 with 1 Axes>"
            ],
            "image/png": "[encoded data removed]"
          },
          "metadata": {
            "needs_background": "light"
          }
        },
        {
          "output_type": "execute_result",
          "data": {
            "text/plain": [
              "   q_star     q_est    n\n",
              "0       4  4.215425   63\n",
              "1       5  4.809333  252\n",
              "2       3  2.568520   10\n",
              "3       3  3.175723   15\n",
              "4       1  2.025971    7\n",
              "5       2  2.514352   10\n",
              "6       0 -0.528585    2\n",
              "7       1  1.782176    6\n",
              "8       5  4.951979  631\n",
              "9       1  1.086422    4"
            ],
            "text/html": [
              "\n",
              "  <div id=\"df-0220f4a2-f21e-4cd7-8c3b-30caf88c86be\">\n",
              "    <div class=\"colab-df-container\">\n",
              "      <div>\n",
              "<style scoped>\n",
              "    .dataframe tbody tr th:only-of-type {\n",
              "        vertical-align: middle;\n",
              "    }\n",
              "\n",
              "    .dataframe tbody tr th {\n",
              "        vertical-align: top;\n",
              "    }\n",
              "\n",
              "    .dataframe thead th {\n",
              "        text-align: right;\n",
              "    }\n",
              "</style>\n",
              "<table border=\"1\" class=\"dataframe\">\n",
              "  <thead>\n",
              "    <tr style=\"text-align: right;\">\n",
              "      <th></th>\n",
              "      <th>q_star</th>\n",
              "      <th>q_est</th>\n",
              "      <th>n</th>\n",
              "    </tr>\n",
              "  </thead>\n",
              "  <tbody>\n",
              "    <tr>\n",
              "      <th>0</th>\n",
              "      <td>4</td>\n",
              "      <td>4.215425</td>\n",
              "      <td>63</td>\n",
              "    </tr>\n",
              "    <tr>\n",
              "      <th>1</th>\n",
              "      <td>5</td>\n",
              "      <td>4.809333</td>\n",
              "      <td>252</td>\n",
              "    </tr>\n",
              "    <tr>\n",
              "      <th>2</th>\n",
              "      <td>3</td>\n",
              "      <td>2.568520</td>\n",
              "      <td>10</td>\n",
              "    </tr>\n",
              "    <tr>\n",
              "      <th>3</th>\n",
              "      <td>3</td>\n",
              "      <td>3.175723</td>\n",
              "      <td>15</td>\n",
              "    </tr>\n",
              "    <tr>\n",
              "      <th>4</th>\n",
              "      <td>1</td>\n",
              "      <td>2.025971</td>\n",
              "      <td>7</td>\n",
              "    </tr>\n",
              "    <tr>\n",
              "      <th>5</th>\n",
              "      <td>2</td>\n",
              "      <td>2.514352</td>\n",
              "      <td>10</td>\n",
              "    </tr>\n",
              "    <tr>\n",
              "      <th>6</th>\n",
              "      <td>0</td>\n",
              "      <td>-0.528585</td>\n",
              "      <td>2</td>\n",
              "    </tr>\n",
              "    <tr>\n",
              "      <th>7</th>\n",
              "      <td>1</td>\n",
              "      <td>1.782176</td>\n",
              "      <td>6</td>\n",
              "    </tr>\n",
              "    <tr>\n",
              "      <th>8</th>\n",
              "      <td>5</td>\n",
              "      <td>4.951979</td>\n",
              "      <td>631</td>\n",
              "    </tr>\n",
              "    <tr>\n",
              "      <th>9</th>\n",
              "      <td>1</td>\n",
              "      <td>1.086422</td>\n",
              "      <td>4</td>\n",
              "    </tr>\n",
              "  </tbody>\n",
              "</table>\n",
              "</div>\n",
              "      <button class=\"colab-df-convert\" onclick=\"convertToInteractive('df-0220f4a2-f21e-4cd7-8c3b-30caf88c86be')\"\n",
              "              title=\"Convert this dataframe to an interactive table.\"\n",
              "              style=\"display:none;\">\n",
              "        \n",
              "  <svg xmlns=\"http://www.w3.org/2000/svg\" height=\"24px\"viewBox=\"0 0 24 24\"\n",
              "       width=\"24px\">\n",
              "    <path d=\"M0 0h24v24H0V0z\" fill=\"none\"/>\n",
              "    <path d=\"M18.56 5.44l.94 2.06.94-2.06 2.06-.94-2.06-.94-.94-2.06-.94 2.06-2.06.94zm-11 1L8.5 8.5l.94-2.06 2.06-.94-2.06-.94L8.5 2.5l-.94 2.06-2.06.94zm10 10l.94 2.06.94-2.06 2.06-.94-2.06-.94-.94-2.06-.94 2.06-2.06.94z\"/><path d=\"M17.41 7.96l-1.37-1.37c-.4-.4-.92-.59-1.43-.59-.52 0-1.04.2-1.43.59L10.3 9.45l-7.72 7.72c-.78.78-.78 2.05 0 2.83L4 21.41c.39.39.9.59 1.41.59.51 0 1.02-.2 1.41-.59l7.78-7.78 2.81-2.81c.8-.78.8-2.07 0-2.86zM5.41 20L4 18.59l7.72-7.72 1.47 1.35L5.41 20z\"/>\n",
              "  </svg>\n",
              "      </button>\n",
              "      \n",
              "  <style>\n",
              "    .colab-df-container {\n",
              "      display:flex;\n",
              "      flex-wrap:wrap;\n",
              "      gap: 12px;\n",
              "    }\n",
              "\n",
              "    .colab-df-convert {\n",
              "      background-color: #E8F0FE;\n",
              "      border: none;\n",
              "      border-radius: 50%;\n",
              "      cursor: pointer;\n",
              "      display: none;\n",
              "      fill: #1967D2;\n",
              "      height: 32px;\n",
              "      padding: 0 0 0 0;\n",
              "      width: 32px;\n",
              "    }\n",
              "\n",
              "    .colab-df-convert:hover {\n",
              "      background-color: #E2EBFA;\n",
              "      box-shadow: 0px 1px 2px rgba(60, 64, 67, 0.3), 0px 1px 3px 1px rgba(60, 64, 67, 0.15);\n",
              "      fill: #174EA6;\n",
              "    }\n",
              "\n",
              "    [theme=dark] .colab-df-convert {\n",
              "      background-color: #3B4455;\n",
              "      fill: #D2E3FC;\n",
              "    }\n",
              "\n",
              "    [theme=dark] .colab-df-convert:hover {\n",
              "      background-color: #434B5C;\n",
              "      box-shadow: 0px 1px 3px 1px rgba(0, 0, 0, 0.15);\n",
              "      filter: drop-shadow(0px 1px 2px rgba(0, 0, 0, 0.3));\n",
              "      fill: #FFFFFF;\n",
              "    }\n",
              "  </style>\n",
              "\n",
              "      <script>\n",
              "        const buttonEl =\n",
              "          document.querySelector('#df-0220f4a2-f21e-4cd7-8c3b-30caf88c86be button.colab-df-convert');\n",
              "        buttonEl.style.display =\n",
              "          google.colab.kernel.accessAllowed ? 'block' : 'none';\n",
              "\n",
              "        async function convertToInteractive(key) {\n",
              "          const element = document.querySelector('#df-0220f4a2-f21e-4cd7-8c3b-30caf88c86be');\n",
              "          const dataTable =\n",
              "            await google.colab.kernel.invokeFunction('convertToInteractive',\n",
              "                                                     [key], {});\n",
              "          if (!dataTable) return;\n",
              "\n",
              "          const docLinkHtml = 'Like what you see? Visit the ' +\n",
              "            '<a target=\"_blank\" href=https://colab.research.google.com/notebooks/data_table.ipynb>data table notebook</a>'\n",
              "            + ' to learn more about interactive tables.';\n",
              "          element.innerHTML = '';\n",
              "          dataTable['output_type'] = 'display_data';\n",
              "          await google.colab.output.renderOutput(dataTable, element);\n",
              "          const docLink = document.createElement('div');\n",
              "          docLink.innerHTML = docLinkHtml;\n",
              "          element.appendChild(docLink);\n",
              "        }\n",
              "      </script>\n",
              "    </div>\n",
              "  </div>\n",
              "  "
            ]
          },
          "metadata": {},
          "execution_count": 17
        }
      ],
      "source": [
        "df_rewards['UCB'] = rewards # Let's store the results for comparison\n",
        "plot_rewards(rewards)\n",
        "display_agent(agent, bandit)"
      ]
    },
    {
      "cell_type": "markdown",
      "metadata": {
        "id": "gwr1hXJ2bC9Z"
      },
      "source": [
        "## Task 3 - understanding the code\n",
        "\n",
        "See the results of all agents as well as the comparison below. Try to understand the results. To get the better understanding you may experiment with the code. For example, you may:\n",
        "- Modify the k-armed bandit by changeing the real $Q_{\\star}$ values and/or the standard deviation.\n",
        "- Change the $\\epsilon$ parameter in $\\epsilon$-greedy agent and see how it impacts the behaviour of the agent\n",
        "- Change the initial values for the optimistic agent and see how it impacts the behaviour of the agent\n",
        "- Change exploration parameter $c$ for the UCB agent and see how it impacts the behaviour of the agent"
      ]
    },
    {
      "cell_type": "code",
      "execution_count": 18,
      "metadata": {
        "id": "xnqjjCyZbC9Z",
        "outputId": "bd4be394-ecba-427c-f230-4390e5d0b4fb",
        "colab": {
          "base_uri": "https://localhost:8080/",
          "height": 286
        }
      },
      "outputs": [
        {
          "output_type": "execute_result",
          "data": {
            "text/plain": [
              "<Axes: >"
            ]
          },
          "metadata": {},
          "execution_count": 18
        },
        {
          "output_type": "display_data",
          "data": {
            "text/plain": [
              "<Figure size 432x288 with 1 Axes>"
            ],
            "image/png": "[encoded data removed]"
          },
          "metadata": {
            "needs_background": "light"
          }
        }
      ],
      "source": [
        "df_rewards.plot(colormap = 'brg', ylim=[3, 5.5])"
      ]
    },
    {
      "cell_type": "code",
      "execution_count": null,
      "metadata": {
        "id": "piNzz6rVbC9Z"
      },
      "outputs": [],
      "source": []
    }
  ],
  "metadata": {
    "kernelspec": {
      "display_name": "base",
      "language": "python",
      "name": "python3"
    },
    "language_info": {
      "codemirror_mode": {
        "name": "ipython",
        "version": 3
      },
      "file_extension": ".py",
      "mimetype": "text/x-python",
      "name": "python",
      "nbconvert_exporter": "python",
      "pygments_lexer": "ipython3",
      "version": "3.9.12"
    },
    "vscode": {
      "interpreter": {
        "hash": "116f0d98ee075869b5dc9f458adbcef3f5ec480ac835205e10bc39137d90951d"
      }
    },
    "colab": {
      "provenance": [],
      "collapsed_sections": [
        "gwr1hXJ2bC9Z"
      ]
    }
  },
  "nbformat": 4,
  "nbformat_minor": 0
}